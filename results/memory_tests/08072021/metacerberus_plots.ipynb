{
 "cells": [
  {
   "cell_type": "code",
   "execution_count": 2,
   "metadata": {},
   "outputs": [],
   "source": [
    "# time,size,memory_usage\n",
    "import pandas as pd\n",
    "import plotly.graph_objects as go\n",
    "import numpy as np\n",
    "from plotly.graph_objs import *\n",
    "\n",
    "from plotly.offline import plot\n",
    "from plotly.subplots import make_subplots\n",
    "layout = go.Layout(\n",
    "    paper_bgcolor='rgba(0,0,0,0)',\n",
    "    plot_bgcolor='rgba(0,0,0,0)'\n",
    ")\n",
    "\n",
    "size=[1,10,25,50,100]\n",
    "A_time=[18.14,\n",
    "128.77,\n",
    "284.38,\n",
    "568.68,\n",
    "1264\n",
    "]\n",
    "A_memory=[957476,\n",
    "2023212,\n",
    "3746404,\n",
    "6706032,\n",
    "12723528\n",
    "]\n",
    "\n",
    "B2_time=[18.18,\n",
    "142,\n",
    "322,\n",
    "630.84,\n",
    "1363\n",
    "]\n",
    "B2_memory=[952876,\n",
    "2141948,\n",
    "4465132,\n",
    "7962624,\n",
    "15111292\n",
    "]\n",
    "\n",
    "B3_time=[21.74,\n",
    "132,\n",
    "306.49,\n",
    "621,\n",
    "1343\n",
    "]\n",
    "B3_memory=[958064,\n",
    "2133492,\n",
    "4113936,\n",
    "7747440,\n",
    "14883772\n",
    "]\n",
    "\n",
    "C_time=[19.42,\n",
    "139,\n",
    "314,\n",
    "626,\n",
    "1304\n",
    "]\n",
    "C_memory=[980204,\n",
    "2130740,\n",
    "4205324,\n",
    "7740276,\n",
    "14437532\n",
    "]\n",
    "\n",
    "AEUC_time=[18.08,\n",
    "124,\n",
    "277.01,\n",
    "554.22,\n",
    "1219\n",
    "]\n",
    "AEUC_memory=[2061148,\n",
    "2066948,\n",
    "2980932,\n",
    "5230832,\n",
    "9784784\n",
    "\n",
    "]\n",
    "\n",
    "B2EUC_time=[17.62,\n",
    "138,\n",
    "309.12,\n",
    "606.98,\n",
    "1335\n",
    "]\n",
    "B2EUC_memory=[2060160,\n",
    "2069356,\n",
    "3539692,\n",
    "6148444,\n",
    "11544900\n",
    "]\n",
    "\n",
    "B3EUC_time=[18.84,\n",
    "128.18,\n",
    "296.48,\n",
    "600.59,\n",
    "1293\n",
    "]\n",
    "B3EUC_memory=[2061104,\n",
    "2065368,\n",
    "3263432,\n",
    "5991516,\n",
    "11344200\n",
    "]\n",
    "\n",
    "CEUC_time=[18.95,\n",
    "122,\n",
    "300,\n",
    "599.35,\n",
    "1153\n",
    "]\n",
    "CEUC_memory=[2061104,\n",
    "2061104,\n",
    "3332356,\n",
    "5972984,\n",
    "11004564\n",
    "]\n",
    "# list1=[(12.86,0.3,902088),(61.52,2.93,1334228),(169.81,7.66,3001372),(109.81,5.2,1547200),(63.42,2.82,1291952)]\n",
    "list1=[A_memory,B2_memory,B3_memory,C_memory,AEUC_memory,B2EUC_memory,B3EUC_memory,CEUC_memory]"
   ]
  },
  {
   "cell_type": "code",
   "execution_count": 3,
   "metadata": {},
   "outputs": [],
   "source": [
    "for qw in list1:\n",
    "    for index in range(len(qw)):\n",
    "        qw[index]/=1024*1024\n",
    "# size=[m for (l,m,n) in list1]\n",
    "# memory=[n*1.0/1024 for (l,m,n) in list1]\n",
    "# time=[l for (l,m,n) in list1]"
   ]
  },
  {
   "cell_type": "code",
   "execution_count": 4,
   "metadata": {},
   "outputs": [],
   "source": [
    "# size.sort()\n",
    "# time.sort()\n",
    "# memory.sort()"
   ]
  },
  {
   "cell_type": "code",
   "execution_count": 5,
   "metadata": {},
   "outputs": [],
   "source": [
    "# print(size,time)"
   ]
  },
  {
   "cell_type": "code",
   "execution_count": 14,
   "metadata": {},
   "outputs": [
    {
     "name": "stderr",
     "output_type": "stream",
     "text": [
      "/home/taouk/anaconda3/lib/python3.8/site-packages/plotly/tools.py:461: DeprecationWarning:\n",
      "\n",
      "plotly.tools.make_subplots is deprecated, please use plotly.subplots.make_subplots instead\n",
      "\n"
     ]
    },
    {
     "name": "stdout",
     "output_type": "stream",
     "text": [
      "[1, 10, 25, 50, 100] [18.14, 128.77, 284.38, 568.68, 1264] [957476, 2023212, 3746404, 6706032, 12723528]\n"
     ]
    },
    {
     "data": {
      "text/plain": [
       "'temp-plot.html'"
      ]
     },
     "execution_count": 14,
     "metadata": {},
     "output_type": "execute_result"
    }
   ],
   "source": [
    "# size and memory\n",
    "from plotly import tools\n",
    "\n",
    "\n",
    "fig = tools.make_subplots(rows=1,cols=2)\n",
    "\n",
    "print(size,A_time,A_memory)\n",
    "# df = pd.DataFrame({'size': size, 'y1':A_time, 'y2': A_memory})\n",
    "\n",
    "fig1 =Scatter(x=size, y=A_time, name='trace_name')\n",
    "fig2 =Scatter(x=size, y=A_memory, name='trace_name')\n",
    "# fig1 = go.Figure(data=go.Scatter(x=size, y=memory),layout=layout)\n",
    "fig.add_trace(fig1, row=1,col=1)\n",
    "fig.add_trace(fig2, row=1,col=2)\n",
    "# fig['layout']['annotations'][0]['font'].update(color='rgb(0,0,245)')\n",
    "fig.update_layout(template=\"plotly_white\",title='Size vs Memory of A',\n",
    "                   xaxis_title='Size in MBs',\n",
    "                   yaxis_title='Memory in MBs')\n",
    "fig.update_xaxes(showline=True, linewidth=2, linecolor='black',titlefont=dict(size=20))\n",
    "fig.update_yaxes(showline=True, linewidth=2, linecolor='black',titlefont=dict(size=20))\n",
    "fig=Figure(fig,layout=layout)\n",
    "plot(fig)"
   ]
  },
  {
   "cell_type": "code",
   "execution_count": 10,
   "metadata": {},
   "outputs": [
    {
     "data": {
      "text/plain": [
       "'temp-plot.html'"
      ]
     },
     "execution_count": 10,
     "metadata": {},
     "output_type": "execute_result"
    }
   ],
   "source": [
    "time1=A_time\n",
    "\n",
    "time2=AEUC_time\n",
    "\n",
    "fig =make_subplots(rows=1,cols=2)\n",
    "\n",
    "fig1 =Scatter(x=size, y=time1, name='Mic')\n",
    "fig2 =Scatter(x=size, y=time2, name='Euk')\n",
    "# fig1 = go.Figure(data=go.Scatter(x=size, y=memory),layout=layout)\n",
    "fig.add_trace(fig1, row=1,col=1)\n",
    "fig.add_trace(fig2, row=1,col=2)\n",
    "# fig['layout']['annotations'][0]['font'].update(color='rgb(0,0,245)')\n",
    "fig.update_layout(template=\"plotly_white\",title='Size vs Time of A',\n",
    "                   xaxis_title='Size in MBs',\n",
    "                   yaxis_title='Time in Mins',)\n",
    "fig.update_xaxes(showline=True, linewidth=2, linecolor='black')\n",
    "fig.update_yaxes(showline=True, linewidth=2, linecolor='black')\n",
    "fig['layout']['yaxis2'].update(title='Time in Mins')\n",
    "fig['layout']['xaxis2'].update(title='Size in MBs')\n",
    "\n",
    "fig=Figure(fig,layout=layout)\n",
    "plot(fig)"
   ]
  },
  {
   "cell_type": "code",
   "execution_count": 11,
   "metadata": {},
   "outputs": [
    {
     "data": {
      "text/plain": [
       "'temp-plot.html'"
      ]
     },
     "execution_count": 11,
     "metadata": {},
     "output_type": "execute_result"
    }
   ],
   "source": [
    "time1=A_memory\n",
    "\n",
    "time2=AEUC_memory\n",
    "\n",
    "fig = make_subplots(rows=1,cols=2)\n",
    "\n",
    "fig1 =Scatter(x=size, y=time1, name='Mic')\n",
    "fig2 =Scatter(x=size, y=time2, name='Euk')\n",
    "# fig1 = go.Figure(data=go.Scatter(x=size, y=memory),layout=layout)\n",
    "fig.add_trace(fig1, row=1,col=1)\n",
    "fig.add_trace(fig2, row=1,col=2)\n",
    "# fig['layout']['annotations'][0]['font'].update(color='rgb(0,0,245)')\n",
    "fig.update_layout(template=\"plotly_white\",title='Size vs Memory of A',\n",
    "                   xaxis_title='Size in MBs',\n",
    "                   yaxis_title='Memory in GBs',)\n",
    "fig.update_xaxes(showline=True, linewidth=2, linecolor='black')\n",
    "fig.update_yaxes(showline=True, linewidth=2, linecolor='black')\n",
    "fig['layout']['yaxis2'].update(title='Memory In GBs')\n",
    "fig['layout']['xaxis2'].update(title='Size in MBs')\n",
    "\n",
    "fig=Figure(fig,layout=layout)\n",
    "plot(fig)"
   ]
  },
  {
   "cell_type": "code",
   "execution_count": 14,
   "metadata": {},
   "outputs": [
    {
     "data": {
      "text/plain": [
       "'temp-plot.html'"
      ]
     },
     "execution_count": 14,
     "metadata": {},
     "output_type": "execute_result"
    }
   ],
   "source": [
    "time1=B2_time\n",
    "\n",
    "time2=B2EUC_time\n",
    "\n",
    "fig =make_subplots(rows=1,cols=2)\n",
    "\n",
    "fig1 =Scatter(x=size, y=time1, name='Mic')\n",
    "fig2 =Scatter(x=size, y=time2, name='Euk')\n",
    "# fig1 = go.Figure(data=go.Scatter(x=size, y=memory),layout=layout)\n",
    "fig.add_trace(fig1, row=1,col=1)\n",
    "fig.add_trace(fig2, row=1,col=2)\n",
    "# fig['layout']['annotations'][0]['font'].update(color='rgb(0,0,245)')\n",
    "fig.update_layout(template=\"plotly_white\",title='Size vs Time of B2',\n",
    "                   xaxis_title='Size in MBs',\n",
    "                   yaxis_title='Time in Mins',)\n",
    "fig.update_xaxes(showline=True, linewidth=2, linecolor='black')\n",
    "fig.update_yaxes(showline=True, linewidth=2, linecolor='black')\n",
    "fig['layout']['yaxis2'].update(title='Time in Mins')\n",
    "fig['layout']['xaxis2'].update(title='Size in MBs')\n",
    "\n",
    "fig=Figure(fig,layout=layout)\n",
    "plot(fig)"
   ]
  },
  {
   "cell_type": "code",
   "execution_count": 15,
   "metadata": {},
   "outputs": [
    {
     "data": {
      "text/plain": [
       "'temp-plot.html'"
      ]
     },
     "execution_count": 15,
     "metadata": {},
     "output_type": "execute_result"
    }
   ],
   "source": [
    "time1=B2_memory\n",
    "\n",
    "time2=B2EUC_memory\n",
    "\n",
    "fig = make_subplots(rows=1,cols=2)\n",
    "\n",
    "fig1 =Scatter(x=size, y=time1, name='Mic')\n",
    "fig2 =Scatter(x=size, y=time2, name='Euk')\n",
    "# fig1 = go.Figure(data=go.Scatter(x=size, y=memory),layout=layout)\n",
    "fig.add_trace(fig1, row=1,col=1)\n",
    "fig.add_trace(fig2, row=1,col=2)\n",
    "# fig['layout']['annotations'][0]['font'].update(color='rgb(0,0,245)')\n",
    "fig.update_layout(template=\"plotly_white\",title='Size vs Memory of B2',\n",
    "                   xaxis_title='Size in MBs',\n",
    "                   yaxis_title='Memory in GBs',)\n",
    "fig.update_xaxes(showline=True, linewidth=2, linecolor='black')\n",
    "fig.update_yaxes(showline=True, linewidth=2, linecolor='black')\n",
    "fig['layout']['yaxis2'].update(title='Memory In GBs')\n",
    "fig['layout']['xaxis2'].update(title='Size in MBs')\n",
    "\n",
    "fig=Figure(fig,layout=layout)\n",
    "plot(fig)"
   ]
  },
  {
   "cell_type": "code",
   "execution_count": 16,
   "metadata": {},
   "outputs": [
    {
     "data": {
      "text/plain": [
       "'temp-plot.html'"
      ]
     },
     "execution_count": 16,
     "metadata": {},
     "output_type": "execute_result"
    }
   ],
   "source": [
    "time1=B3_time\n",
    "\n",
    "time2=B3EUC_time\n",
    "\n",
    "fig =make_subplots(rows=1,cols=2)\n",
    "\n",
    "fig1 =Scatter(x=size, y=time1, name='Mic')\n",
    "fig2 =Scatter(x=size, y=time2, name='Euk')\n",
    "# fig1 = go.Figure(data=go.Scatter(x=size, y=memory),layout=layout)\n",
    "fig.add_trace(fig1, row=1,col=1)\n",
    "fig.add_trace(fig2, row=1,col=2)\n",
    "# fig['layout']['annotations'][0]['font'].update(color='rgb(0,0,245)')\n",
    "fig.update_layout(template=\"plotly_white\",title='Size vs Time of B3',\n",
    "                   xaxis_title='Size in MBs',\n",
    "                   yaxis_title='Time in Mins',)\n",
    "fig.update_xaxes(showline=True, linewidth=2, linecolor='black')\n",
    "fig.update_yaxes(showline=True, linewidth=2, linecolor='black')\n",
    "fig['layout']['yaxis2'].update(title='Time in Mins')\n",
    "fig['layout']['xaxis2'].update(title='Size in MBs')\n",
    "\n",
    "fig=Figure(fig,layout=layout)\n",
    "plot(fig)"
   ]
  },
  {
   "cell_type": "code",
   "execution_count": 17,
   "metadata": {},
   "outputs": [
    {
     "data": {
      "text/plain": [
       "'temp-plot.html'"
      ]
     },
     "execution_count": 17,
     "metadata": {},
     "output_type": "execute_result"
    }
   ],
   "source": [
    "time1=B3_memory\n",
    "\n",
    "time2=B3EUC_memory\n",
    "\n",
    "fig = make_subplots(rows=1,cols=2)\n",
    "\n",
    "fig1 =Scatter(x=size, y=time1, name='Mic')\n",
    "fig2 =Scatter(x=size, y=time2, name='Euk')\n",
    "# fig1 = go.Figure(data=go.Scatter(x=size, y=memory),layout=layout)\n",
    "fig.add_trace(fig1, row=1,col=1)\n",
    "fig.add_trace(fig2, row=1,col=2)\n",
    "# fig['layout']['annotations'][0]['font'].update(color='rgb(0,0,245)')\n",
    "fig.update_layout(template=\"plotly_white\",title='Size vs Memory of B3',\n",
    "                   xaxis_title='Size in MBs',\n",
    "                   yaxis_title='Memory in GBs',)\n",
    "fig.update_xaxes(showline=True, linewidth=2, linecolor='black')\n",
    "fig.update_yaxes(showline=True, linewidth=2, linecolor='black')\n",
    "fig['layout']['yaxis2'].update(title='Memory In GBs')\n",
    "fig['layout']['xaxis2'].update(title='Size in MBs')\n",
    "\n",
    "fig=Figure(fig,layout=layout)\n",
    "plot(fig)"
   ]
  },
  {
   "cell_type": "code",
   "execution_count": 18,
   "metadata": {},
   "outputs": [
    {
     "data": {
      "text/plain": [
       "'temp-plot.html'"
      ]
     },
     "execution_count": 18,
     "metadata": {},
     "output_type": "execute_result"
    }
   ],
   "source": [
    "time1=C_time\n",
    "\n",
    "time2=CEUC_time\n",
    "\n",
    "fig =make_subplots(rows=1,cols=2)\n",
    "\n",
    "fig1 =Scatter(x=size, y=time1, name='Mic')\n",
    "fig2 =Scatter(x=size, y=time2, name='Euk')\n",
    "# fig1 = go.Figure(data=go.Scatter(x=size, y=memory),layout=layout)\n",
    "fig.add_trace(fig1, row=1,col=1)\n",
    "fig.add_trace(fig2, row=1,col=2)\n",
    "# fig['layout']['annotations'][0]['font'].update(color='rgb(0,0,245)')\n",
    "fig.update_layout(template=\"plotly_white\",title='Size vs Time of C',\n",
    "                   xaxis_title='Size in MBs',\n",
    "                   yaxis_title='Time in Mins',)\n",
    "fig.update_xaxes(showline=True, linewidth=2, linecolor='black')\n",
    "fig.update_yaxes(showline=True, linewidth=2, linecolor='black')\n",
    "fig['layout']['yaxis2'].update(title='Time in Mins')\n",
    "fig['layout']['xaxis2'].update(title='Size in MBs')\n",
    "\n",
    "fig=Figure(fig,layout=layout)\n",
    "plot(fig)"
   ]
  },
  {
   "cell_type": "code",
   "execution_count": 19,
   "metadata": {},
   "outputs": [
    {
     "data": {
      "text/plain": [
       "'temp-plot.html'"
      ]
     },
     "execution_count": 19,
     "metadata": {},
     "output_type": "execute_result"
    }
   ],
   "source": [
    "time1=C_memory\n",
    "\n",
    "time2=CEUC_memory\n",
    "\n",
    "fig = make_subplots(rows=1,cols=2)\n",
    "\n",
    "fig1 =Scatter(x=size, y=time1, name='Mic')\n",
    "fig2 =Scatter(x=size, y=time2, name='Euk')\n",
    "# fig1 = go.Figure(data=go.Scatter(x=size, y=memory),layout=layout)\n",
    "fig.add_trace(fig1, row=1,col=1)\n",
    "fig.add_trace(fig2, row=1,col=2)\n",
    "# fig['layout']['annotations'][0]['font'].update(color='rgb(0,0,245)')\n",
    "fig.update_layout(template=\"plotly_white\",title='Size vs Memory of C',\n",
    "                   xaxis_title='Size in MBs',\n",
    "                   yaxis_title='Memory in GBs',)\n",
    "fig.update_xaxes(showline=True, linewidth=2, linecolor='black')\n",
    "fig.update_yaxes(showline=True, linewidth=2, linecolor='black')\n",
    "fig['layout']['yaxis2'].update(title='Memory In GBs')\n",
    "fig['layout']['xaxis2'].update(title='Size in MBs')\n",
    "\n",
    "fig=Figure(fig,layout=layout)\n",
    "plot(fig)"
   ]
  },
  {
   "cell_type": "code",
   "execution_count": null,
   "metadata": {},
   "outputs": [],
   "source": []
  }
 ],
 "metadata": {
  "kernelspec": {
   "display_name": "Python 3",
   "language": "python",
   "name": "python3"
  },
  "language_info": {
   "codemirror_mode": {
    "name": "ipython",
    "version": 3
   },
   "file_extension": ".py",
   "mimetype": "text/x-python",
   "name": "python",
   "nbconvert_exporter": "python",
   "pygments_lexer": "ipython3",
   "version": "3.8.3"
  }
 },
 "nbformat": 4,
 "nbformat_minor": 4
}
