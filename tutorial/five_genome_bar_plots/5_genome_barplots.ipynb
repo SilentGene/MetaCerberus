{
 "cells": [
  {
   "cell_type": "code",
   "execution_count": 1,
   "metadata": {},
   "outputs": [],
   "source": [
    "# time,size,memory_usage\n",
    "list1=[(12.86,0.3,902088),(61.52,2.93,1334228),(169.81,7.66,3001372),(109.81,5.2,1547200),(63.42,2.82,1291952)]"
   ]
  },
  {
   "cell_type": "code",
   "execution_count": 2,
   "metadata": {},
   "outputs": [],
   "source": [
    "size=[m for (l,m,n) in list1]\n",
    "memory=[n*1.0/1024 for (l,m,n) in list1]\n",
    "time=[l for (l,m,n) in list1]"
   ]
  },
  {
   "cell_type": "code",
   "execution_count": 3,
   "metadata": {},
   "outputs": [],
   "source": [
    "size.sort()\n",
    "time.sort()\n",
    "memory.sort()"
   ]
  },
  {
   "cell_type": "code",
   "execution_count": 4,
   "metadata": {},
   "outputs": [
    {
     "name": "stdout",
     "output_type": "stream",
     "text": [
      "[0.3, 2.82, 2.93, 5.2, 7.66] [12.86, 61.52, 63.42, 109.81, 169.81]\n"
     ]
    }
   ],
   "source": [
    "print(size,time)"
   ]
  },
  {
   "cell_type": "code",
   "execution_count": 5,
   "metadata": {},
   "outputs": [
    {
     "data": {
      "text/plain": [
       "'temp-plot.html'"
      ]
     },
     "execution_count": 5,
     "metadata": {},
     "output_type": "execute_result"
    }
   ],
   "source": [
    "# size and memory-->scatter plots\n",
    "\n",
    "\n",
    "import plotly.graph_objects as go\n",
    "import numpy as np\n",
    "from plotly.offline import plot\n",
    "\n",
    "fig = go.Figure(data=go.Scatter(x=size, y=memory))\n",
    "fig.update_layout(template=\"plotly_white\",title='Size and Memory',\n",
    "                   xaxis_title='Size in MBs',\n",
    "                   yaxis_title='Memory in MBs')\n",
    "# fig.show()\n",
    "plot(fig)"
   ]
  },
  {
   "cell_type": "code",
   "execution_count": 7,
   "metadata": {},
   "outputs": [
    {
     "data": {
      "text/plain": [
       "'temp-plot.html'"
      ]
     },
     "execution_count": 7,
     "metadata": {},
     "output_type": "execute_result"
    }
   ],
   "source": [
    "# memory Bar Graphs\n",
    "names=['RW1','GIC31','RW2','DJ','Rleg']\n",
    "fig = go.Figure(data=go.Bar(x=names, y=memory,width=[0.2,0.2,0.2,0.2,0.2]))\n",
    "fig.update_layout(template=\"plotly_white\",title='Memory Bar Graph',\n",
    "                   xaxis_title='5-Genomes',\n",
    "                   yaxis_title='Memory in MBs')\n",
    "# fig.show()\n",
    "plot(fig)"
   ]
  },
  {
   "cell_type": "code",
   "execution_count": 6,
   "metadata": {},
   "outputs": [
    {
     "data": {
      "text/plain": [
       "'temp-plot.html'"
      ]
     },
     "execution_count": 6,
     "metadata": {},
     "output_type": "execute_result"
    }
   ],
   "source": [
    "# Time vs Size Scatter PLots\n",
    "\n",
    "fig = go.Figure(data=go.Scatter(x=size, y=time))\n",
    "fig.update_layout(template=\"plotly_white\",title='Size and Time',\n",
    "                   xaxis_title='Size in MBs',\n",
    "                   yaxis_title='Time in min')\n",
    "# fig.show()\n",
    "plot(fig)"
   ]
  },
  {
   "cell_type": "code",
   "execution_count": 8,
   "metadata": {},
   "outputs": [
    {
     "data": {
      "text/plain": [
       "'temp-plot.html'"
      ]
     },
     "execution_count": 8,
     "metadata": {},
     "output_type": "execute_result"
    }
   ],
   "source": [
    "# Time Bar Graphs\n",
    "\n",
    "fig = go.Figure(data=go.Bar(x=names, y=time,width=[0.2,0.2,0.2,0.2,0.2]))\n",
    "fig.update_layout(template=\"plotly_white\",title='Time Bar Graph',\n",
    "                   xaxis_title='5-Genomes',\n",
    "                   yaxis_title='Time in Min')\n",
    "# fig.show()\n",
    "plot(fig)"
   ]
  },
  {
   "cell_type": "code",
   "execution_count": null,
   "metadata": {},
   "outputs": [],
   "source": []
  }
 ],
 "metadata": {
  "kernelspec": {
   "display_name": "Python 3",
   "language": "python",
   "name": "python3"
  },
  "language_info": {
   "codemirror_mode": {
    "name": "ipython",
    "version": 3
   },
   "file_extension": ".py",
   "mimetype": "text/x-python",
   "name": "python",
   "nbconvert_exporter": "python",
   "pygments_lexer": "ipython3",
   "version": "3.8.3"
  }
 },
 "nbformat": 4,
 "nbformat_minor": 4
}
